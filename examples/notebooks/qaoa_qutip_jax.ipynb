{
 "cells": [
  {
   "cell_type": "markdown",
   "source": [
    "# QAOA implementation\n",
    "\n",
    "In this notebook we will demonstrate a simple example of Quantum Adiabatic\n",
    "Optimization Algorithm (QAOA) using Jax and QuTiP. QAOA is a heuristic algorithm\n",
    "that solves optimization problems such as ...\n",
    "\n",
    "The QAOA Hamiltonian can be written as\n",
    "\n",
    "$$\n",
    "H(\\gamma, \\beta) = H_0 + H_1\n",
    "$$\n",
    "\n"
   ],
   "metadata": {}
  },
  {
   "cell_type": "code",
   "execution_count": 2,
   "source": [
    "from qutip.operators import sigmax, qeye\n",
    "from qutip.tensor import tensor\n",
    "\n",
    "import jax.numpy as jnp\n",
    "from jax import value_and_grad\n",
    "from jax.experimental import optimizers\n",
    "from jax.scipy.linalg import expm\n",
    "\n",
    "import numpy as np\n",
    "\n",
    "from tqdm.auto import tqdm\n",
    "\n",
    "%load_ext autoreload\n",
    "%autoreload 2"
   ],
   "outputs": [],
   "metadata": {}
  },
  {
   "cell_type": "code",
   "execution_count": 3,
   "source": [
    "num_qubits = 4\n",
    "cost = np.random.randint(-16, 0, size=num_qubits**2).reshape(-1, 1)\n",
    "p = 1\n",
    "params = jnp.array(np.random.rand(2*p))\n",
    "\n",
    "print(num_qubits)"
   ],
   "outputs": [
    {
     "output_type": "stream",
     "name": "stderr",
     "text": [
      "WARNING:absl:No GPU/TPU found, falling back to CPU. (Set TF_CPP_MIN_LOG_LEVEL=0 and rerun for more info.)\n"
     ]
    },
    {
     "output_type": "stream",
     "name": "stdout",
     "text": [
      "4\n"
     ]
    }
   ],
   "metadata": {}
  },
  {
   "cell_type": "code",
   "execution_count": 4,
   "source": [
    "def plus_state(q: int):\n",
    "    \"\"\"Generates the plus state\n",
    "\n",
    "    Args:\n",
    "        q (int): number of qubits\n",
    "\n",
    "    Returns:\n",
    "        jnp.array: An array representing the plus state vector in the\n",
    "    \"\"\"\n",
    "    return 1 / jnp.sqrt(2**q) * jnp.ones((2**q, 1))"
   ],
   "outputs": [],
   "metadata": {}
  },
  {
   "cell_type": "code",
   "execution_count": 5,
   "source": [
    "def get_local_pauli(num_qubits:int):\n",
    "    \"\"\"Obtain a tensor product of local Pauli operators (sigmax/I)\n",
    "\n",
    "    Args:\n",
    "        num_qubits (int): Number of qubits\n",
    "    \n",
    "    Returns:\n",
    "        X (jnp.array): An array representing the tensor product\n",
    "    \"\"\"\n",
    "    X = 0*tensor([qeye(2) for i in range(num_qubits)])\n",
    "\n",
    "    for i in range(num_qubits):\n",
    "        local_pauli_x_operation = []\n",
    "        for j in range(num_qubits):\n",
    "            if i==j:\n",
    "                op = sigmax()\n",
    "            else:\n",
    "                op = qeye(sigmax().dims[0][0])\n",
    "            local_pauli_x_operation.append(op)\n",
    "        X += tensor(local_pauli_x_operation)\n",
    "    return X"
   ],
   "outputs": [],
   "metadata": {}
  },
  {
   "cell_type": "code",
   "execution_count": 6,
   "source": [
    "X = get_local_pauli(num_qubits)\n",
    "X"
   ],
   "outputs": [
    {
     "output_type": "execute_result",
     "data": {
      "text/plain": [
       "Quantum object: dims = [[2, 2, 2, 2], [2, 2, 2, 2]], shape = (16, 16), type = oper, isherm = True\n",
       "Qobj data =\n",
       "[[0. 1. 1. 0. 1. 0. 0. 0. 1. 0. 0. 0. 0. 0. 0. 0.]\n",
       " [1. 0. 0. 1. 0. 1. 0. 0. 0. 1. 0. 0. 0. 0. 0. 0.]\n",
       " [1. 0. 0. 1. 0. 0. 1. 0. 0. 0. 1. 0. 0. 0. 0. 0.]\n",
       " [0. 1. 1. 0. 0. 0. 0. 1. 0. 0. 0. 1. 0. 0. 0. 0.]\n",
       " [1. 0. 0. 0. 0. 1. 1. 0. 0. 0. 0. 0. 1. 0. 0. 0.]\n",
       " [0. 1. 0. 0. 1. 0. 0. 1. 0. 0. 0. 0. 0. 1. 0. 0.]\n",
       " [0. 0. 1. 0. 1. 0. 0. 1. 0. 0. 0. 0. 0. 0. 1. 0.]\n",
       " [0. 0. 0. 1. 0. 1. 1. 0. 0. 0. 0. 0. 0. 0. 0. 1.]\n",
       " [1. 0. 0. 0. 0. 0. 0. 0. 0. 1. 1. 0. 1. 0. 0. 0.]\n",
       " [0. 1. 0. 0. 0. 0. 0. 0. 1. 0. 0. 1. 0. 1. 0. 0.]\n",
       " [0. 0. 1. 0. 0. 0. 0. 0. 1. 0. 0. 1. 0. 0. 1. 0.]\n",
       " [0. 0. 0. 1. 0. 0. 0. 0. 0. 1. 1. 0. 0. 0. 0. 1.]\n",
       " [0. 0. 0. 0. 1. 0. 0. 0. 1. 0. 0. 0. 0. 1. 1. 0.]\n",
       " [0. 0. 0. 0. 0. 1. 0. 0. 0. 1. 0. 0. 1. 0. 0. 1.]\n",
       " [0. 0. 0. 0. 0. 0. 1. 0. 0. 0. 1. 0. 1. 0. 0. 1.]\n",
       " [0. 0. 0. 0. 0. 0. 0. 1. 0. 0. 0. 1. 0. 1. 1. 0.]]"
      ],
      "text/latex": [
       "Quantum object: dims = [[2, 2, 2, 2], [2, 2, 2, 2]], shape = (16, 16), type = oper, isherm = True\\begin{equation*}\\left(\\begin{array}{*{11}c}0.0 & 1.0 & 1.0 & 0.0 & 1.0 & \\cdots & 0.0 & 0.0 & 0.0 & 0.0 & 0.0\\\\1.0 & 0.0 & 0.0 & 1.0 & 0.0 & \\cdots & 0.0 & 0.0 & 0.0 & 0.0 & 0.0\\\\1.0 & 0.0 & 0.0 & 1.0 & 0.0 & \\cdots & 0.0 & 0.0 & 0.0 & 0.0 & 0.0\\\\0.0 & 1.0 & 1.0 & 0.0 & 0.0 & \\cdots & 1.0 & 0.0 & 0.0 & 0.0 & 0.0\\\\1.0 & 0.0 & 0.0 & 0.0 & 0.0 & \\cdots & 0.0 & 1.0 & 0.0 & 0.0 & 0.0\\\\\\vdots & \\vdots & \\vdots & \\vdots & \\vdots & \\ddots & \\vdots & \\vdots & \\vdots & \\vdots & \\vdots\\\\0.0 & 0.0 & 0.0 & 1.0 & 0.0 & \\cdots & 0.0 & 0.0 & 0.0 & 0.0 & 1.0\\\\0.0 & 0.0 & 0.0 & 0.0 & 1.0 & \\cdots & 0.0 & 0.0 & 1.0 & 1.0 & 0.0\\\\0.0 & 0.0 & 0.0 & 0.0 & 0.0 & \\cdots & 0.0 & 1.0 & 0.0 & 0.0 & 1.0\\\\0.0 & 0.0 & 0.0 & 0.0 & 0.0 & \\cdots & 0.0 & 1.0 & 0.0 & 0.0 & 1.0\\\\0.0 & 0.0 & 0.0 & 0.0 & 0.0 & \\cdots & 1.0 & 0.0 & 1.0 & 1.0 & 0.0\\\\\\end{array}\\right)\\end{equation*}"
      ]
     },
     "metadata": {},
     "execution_count": 6
    }
   ],
   "metadata": {}
  },
  {
   "cell_type": "code",
   "execution_count": 7,
   "source": [
    "X = jnp.array(X.full())"
   ],
   "outputs": [],
   "metadata": {}
  },
  {
   "cell_type": "code",
   "execution_count": 8,
   "source": [
    "def variational_state(cost, s, gamma_list, beta_list):\n",
    "    for gamma, beta in zip(gamma_list, beta_list):\n",
    "        s = jnp.exp(-1j * gamma * cost)*s\n",
    "        s = expm(- 1j * beta * X)@s\n",
    "    return s\n",
    "    \n",
    "\n",
    "def cost_func(params, cost, s):\n",
    "    gamma_list, beta_list = jnp.split(params, 2)\n",
    "    s = variational_state(cost, s, gamma_list, beta_list)\n",
    "    cost_val = jnp.real(jnp.vdot(jnp.transpose(s), jnp.multiply(cost, s)))\n",
    "    return cost_val, s\n",
    "\n",
    "\n",
    "def loss_fn(params, cost, s):\n",
    "    f, s = cost_func(params, cost, s)\n",
    "    return ((-4) - f)**2\n",
    "\n",
    "\n",
    "def step(step, opt_state, s):\n",
    "    params = get_params(opt_state)\n",
    "    value, grads = value_and_grad(loss_fn)(params, cost, s)\n",
    "    opt_state = opt_update(step, grads, opt_state)\n",
    "    return value, opt_state\n",
    "\n",
    "\n",
    "learning_rate = 1e-1\n",
    "params = jnp.array(np.random.rand(2*p))\n",
    "num_steps = 100\n",
    "epochs = 1\n",
    "\n",
    "s = plus_state(num_qubits)\n",
    "\n",
    "opt_init, opt_update, get_params = optimizers.adam(learning_rate)\n",
    "opt_state = opt_init(params)\n",
    "\n",
    "\n",
    "for i in tqdm(range(num_steps)):\n",
    "    value, opt_state = step(i, opt_state, s)\n",
    "    _, s = cost_func(params, cost, s)\n",
    "\n",
    "\n",
    "f, s = cost_func(jnp.array(opt_state.packed_state[0][0]), cost, s)\n",
    "print(\"Final state\", s)\n",
    "print(\"Cost value\", f)\n"
   ],
   "outputs": [
    {
     "output_type": "stream",
     "name": "stderr",
     "text": [
      "  1%|          | 1/100 [00:01<03:08,  1.90s/it]"
     ]
    }
   ],
   "metadata": {}
  },
  {
   "cell_type": "markdown",
   "source": [
    "## Gradient descent based optimization "
   ],
   "metadata": {}
  },
  {
   "cell_type": "markdown",
   "source": [
    "## Time testing \n",
    "### 11 qubits\n",
    "#### unoptimized U_C full matrix \n",
    "9.09 s ± 506 ms per loop (mean ± std. dev. of 7 runs, 1 loop each)\n",
    "#### optimized U_C vector \n",
    "3.27 s ± 249 ms per loop (mean ± std. dev. of 7 runs, 1 loop each)"
   ],
   "metadata": {}
  },
  {
   "cell_type": "code",
   "execution_count": null,
   "source": [
    "%timeit cost_func(params, cost, s)"
   ],
   "outputs": [],
   "metadata": {}
  },
  {
   "cell_type": "code",
   "execution_count": null,
   "source": [],
   "outputs": [],
   "metadata": {}
  }
 ],
 "metadata": {
  "interpreter": {
   "hash": "aee8b7b246df8f9039afb4144a1f6fd8d2ca17a180786b69acc140d282b71a49"
  },
  "kernelspec": {
   "display_name": "Python 3.9.5 64-bit",
   "name": "python3"
  },
  "language_info": {
   "name": "python",
   "version": ""
  },
  "orig_nbformat": 4
 },
 "nbformat": 4,
 "nbformat_minor": 2
}